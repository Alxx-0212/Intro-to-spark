{
 "cells": [
  {
   "cell_type": "code",
   "execution_count": 21,
   "metadata": {},
   "outputs": [],
   "source": [
    "import pyspark\n",
    "from pyspark.sql import SparkSession\n",
    "\n",
    "spark = SparkSession.builder \\\n",
    "    .master(\"local[*]\") \\\n",
    "    .appName('test') \\\n",
    "    .getOrCreate()"
   ]
  },
  {
   "cell_type": "markdown",
   "metadata": {},
   "source": [
    "Check the spark version"
   ]
  },
  {
   "cell_type": "code",
   "execution_count": 25,
   "metadata": {},
   "outputs": [
    {
     "data": {
      "text/plain": [
       "'3.3.2'"
      ]
     },
     "execution_count": 25,
     "metadata": {},
     "output_type": "execute_result"
    }
   ],
   "source": [
    "spark.version"
   ]
  },
  {
   "cell_type": "markdown",
   "metadata": {},
   "source": [
    "Read the fhv_tripdata_2019-10.csv file"
   ]
  },
  {
   "cell_type": "code",
   "execution_count": 26,
   "metadata": {},
   "outputs": [],
   "source": [
    "from pyspark.sql import types"
   ]
  },
  {
   "cell_type": "code",
   "execution_count": 28,
   "metadata": {},
   "outputs": [],
   "source": [
    "schema = types.StructType([\n",
    "    types.StructField('dispatching_base_num', types.StringType(), True),\n",
    "    types.StructField('pickup_datetime', types.TimestampType(), True),\n",
    "    types.StructField('dropoff_datetime', types.TimestampType(), True),\n",
    "    types.StructField('PULocationID', types.IntegerType(), True),\n",
    "    types.StructField('DOLocationID', types.IntegerType(), True),\n",
    "    types.StructField('SR_Flag', types.StringType(), True),\n",
    "    types.StructField('Affiliated_base_number', types.StringType(), True),\n",
    "])"
   ]
  },
  {
   "cell_type": "code",
   "execution_count": 29,
   "metadata": {},
   "outputs": [],
   "source": [
    "df = spark.read \\\n",
    "    .option(\"header\", \"true\") \\\n",
    "    .schema(schema) \\\n",
    "    .csv('fhv_tripdata_2019-10.csv')"
   ]
  },
  {
   "cell_type": "markdown",
   "metadata": {},
   "source": [
    "Repartition the dataframe"
   ]
  },
  {
   "cell_type": "code",
   "execution_count": 30,
   "metadata": {},
   "outputs": [],
   "source": [
    "df = df.repartition(6)"
   ]
  },
  {
   "cell_type": "markdown",
   "metadata": {},
   "source": [
    "Save the dataframe into parquet "
   ]
  },
  {
   "cell_type": "code",
   "execution_count": 36,
   "metadata": {},
   "outputs": [
    {
     "name": "stderr",
     "output_type": "stream",
     "text": [
      "                                                                                \r"
     ]
    }
   ],
   "source": [
    "df.write.parquet('fhv_tripdata/2019/10/')"
   ]
  },
  {
   "cell_type": "markdown",
   "metadata": {},
   "source": [
    "Calculate the average size of the parquet file "
   ]
  },
  {
   "cell_type": "code",
   "execution_count": 40,
   "metadata": {},
   "outputs": [
    {
     "name": "stdout",
     "output_type": "stream",
     "text": [
      "Size in MB\n",
      "6.209669833333333\n"
     ]
    }
   ],
   "source": [
    "import os\n",
    "\n",
    "path = './fhv_tripdata/2019/10'\n",
    "avg_size = 0\n",
    "count = 0\n",
    "for file in os.listdir(path):\n",
    "    if file.endswith('.parquet'):\n",
    "        avg_size+=int(os.path.getsize(os.path.join(path,file)))\n",
    "        count+=1\n",
    "\n",
    "print('Size in MB')\n",
    "print((avg_size/1000000)/count)"
   ]
  },
  {
   "cell_type": "code",
   "execution_count": 41,
   "metadata": {},
   "outputs": [],
   "source": [
    "df = spark.read.parquet(path)"
   ]
  },
  {
   "cell_type": "code",
   "execution_count": 42,
   "metadata": {},
   "outputs": [
    {
     "name": "stdout",
     "output_type": "stream",
     "text": [
      "root\n",
      " |-- dispatching_base_num: string (nullable = true)\n",
      " |-- pickup_datetime: timestamp (nullable = true)\n",
      " |-- dropoff_datetime: timestamp (nullable = true)\n",
      " |-- PULocationID: integer (nullable = true)\n",
      " |-- DOLocationID: integer (nullable = true)\n",
      " |-- SR_Flag: string (nullable = true)\n",
      " |-- Affiliated_base_number: string (nullable = true)\n",
      "\n"
     ]
    }
   ],
   "source": [
    "df.printSchema()"
   ]
  },
  {
   "cell_type": "markdown",
   "metadata": {},
   "source": [
    "Count the total of trips in October 15th"
   ]
  },
  {
   "cell_type": "code",
   "execution_count": 45,
   "metadata": {},
   "outputs": [
    {
     "name": "stderr",
     "output_type": "stream",
     "text": [
      "/home/alexxgo21/spark-3.3.2-bin-hadoop3/python/pyspark/sql/dataframe.py:229: FutureWarning: Deprecated in 2.0, use createOrReplaceTempView instead.\n",
      "  warnings.warn(\"Deprecated in 2.0, use createOrReplaceTempView instead.\", FutureWarning)\n"
     ]
    }
   ],
   "source": [
    "df.registerTempTable('fhv_2019_10')"
   ]
  },
  {
   "cell_type": "code",
   "execution_count": 50,
   "metadata": {},
   "outputs": [
    {
     "name": "stderr",
     "output_type": "stream",
     "text": [
      "[Stage 8:=============================>                            (6 + 6) / 12]\r"
     ]
    },
    {
     "name": "stdout",
     "output_type": "stream",
     "text": [
      "+--------+\n",
      "|count(1)|\n",
      "+--------+\n",
      "|   62610|\n",
      "+--------+\n",
      "\n"
     ]
    },
    {
     "name": "stderr",
     "output_type": "stream",
     "text": [
      "                                                                                \r"
     ]
    }
   ],
   "source": [
    "spark.sql(\n",
    "\"\"\"\n",
    "SELECT COUNT(*) FROM fhv_2019_10\n",
    "WHERE EXTRACT(MONTH FROM pickup_datetime)=10 AND EXTRACT(DAY FROM pickup_datetime)=15\n",
    "\"\"\"\n",
    ").show()"
   ]
  },
  {
   "cell_type": "markdown",
   "metadata": {},
   "source": [
    "Calculate the longest trip in the dataset"
   ]
  },
  {
   "cell_type": "code",
   "execution_count": 53,
   "metadata": {},
   "outputs": [],
   "source": [
    "from pyspark.sql import functions as F"
   ]
  },
  {
   "cell_type": "code",
   "execution_count": 61,
   "metadata": {},
   "outputs": [],
   "source": [
    "df = df.withColumn('time',F.round((F.unix_timestamp('dropoff_datetime')-F.unix_timestamp('pickup_datetime'))/3600,2))"
   ]
  },
  {
   "cell_type": "code",
   "execution_count": 63,
   "metadata": {},
   "outputs": [
    {
     "name": "stdout",
     "output_type": "stream",
     "text": [
      "+---------+\n",
      "|max(time)|\n",
      "+---------+\n",
      "| 631152.5|\n",
      "+---------+\n",
      "\n"
     ]
    }
   ],
   "source": [
    "df.select(F.max('time')).show()"
   ]
  },
  {
   "cell_type": "markdown",
   "metadata": {},
   "source": [
    "Load the zone file"
   ]
  },
  {
   "cell_type": "code",
   "execution_count": 65,
   "metadata": {},
   "outputs": [],
   "source": [
    "zone_schema = types.StructType([\n",
    "    types.StructField('LocationID', types.IntegerType(), True),\n",
    "    types.StructField('Borough', types.StringType(), True),\n",
    "    types.StructField('Zone', types.StringType(), True),\n",
    "    types.StructField('service_zone', types.StringType(), True),\n",
    "])"
   ]
  },
  {
   "cell_type": "code",
   "execution_count": 70,
   "metadata": {},
   "outputs": [],
   "source": [
    "zone_df = spark.read \\\n",
    "    .option(\"header\", \"true\") \\\n",
    "    .schema(zone_schema) \\\n",
    "    .csv('taxi_zone_lookup.csv')"
   ]
  },
  {
   "cell_type": "code",
   "execution_count": 71,
   "metadata": {},
   "outputs": [
    {
     "name": "stdout",
     "output_type": "stream",
     "text": [
      "root\n",
      " |-- LocationID: integer (nullable = true)\n",
      " |-- Borough: string (nullable = true)\n",
      " |-- Zone: string (nullable = true)\n",
      " |-- service_zone: string (nullable = true)\n",
      "\n"
     ]
    }
   ],
   "source": [
    "zone_df.printSchema()"
   ]
  },
  {
   "cell_type": "code",
   "execution_count": 76,
   "metadata": {},
   "outputs": [
    {
     "name": "stdout",
     "output_type": "stream",
     "text": [
      "+--------------------+-------------------+-------------------+------------+------------+-------+----------------------+----+\n",
      "|dispatching_base_num|    pickup_datetime|   dropoff_datetime|PULocationID|DOLocationID|SR_Flag|Affiliated_base_number|time|\n",
      "+--------------------+-------------------+-------------------+------------+------------+-------+----------------------+----+\n",
      "|              B02111|2019-10-01 10:18:42|2019-10-01 10:28:28|          92|          92|   null|                B02111|0.16|\n",
      "|     B00021         |2019-10-01 23:08:47|2019-10-01 23:15:57|          56|          82|   null|       B00021         |0.12|\n",
      "|              B03160|2019-10-02 08:29:00|2019-10-02 08:50:00|          47|         254|   null|                B00111|0.35|\n",
      "|              B00692|2019-10-03 08:32:24|2019-10-03 09:01:26|         264|          22|   null|                B00692|0.48|\n",
      "|              B01145|2019-10-01 01:07:53|2019-10-01 01:15:55|         264|         147|   null|                B01145|0.13|\n",
      "|              B03016|2019-10-03 09:30:26|2019-10-03 10:13:38|         264|         132|   null|                B02875|0.72|\n",
      "|              B01340|2019-10-03 10:29:06|2019-10-03 10:33:22|         264|         126|   null|                B01340|0.07|\n",
      "|              B02975|2019-10-02 07:17:05|2019-10-02 08:18:33|         264|          67|   null|                B02875|1.02|\n",
      "|              B01800|2019-10-02 07:01:00|2019-10-02 07:47:00|         264|         264|   null|                B01800|0.77|\n",
      "|              B00272|2019-10-01 20:30:00|2019-10-01 20:51:00|         264|         264|   null|                B00272|0.35|\n",
      "|              B02416|2019-10-02 13:12:00|2019-10-02 13:57:21|        null|        null|   null|                B02416|0.76|\n",
      "|              B02868|2019-10-02 10:00:00|2019-10-02 10:24:00|         264|         264|   null|                B02868| 0.4|\n",
      "|              B02641|2019-10-01 20:39:54|2019-10-01 20:46:52|         264|         264|   null|                B02641|0.12|\n",
      "|              B00256|2019-10-02 07:22:10|2019-10-02 07:43:05|         264|         264|   null|                B00256|0.35|\n",
      "|              B01145|2019-10-02 16:11:25|2019-10-02 16:49:15|         264|         242|   null|                B02550|0.63|\n",
      "|     B00625         |2019-10-01 15:33:01|2019-10-01 15:50:58|         129|         129|   null|       B02889         | 0.3|\n",
      "|              B01482|2019-10-01 18:07:00|2019-10-01 18:19:00|         264|         264|   null|                B01482| 0.2|\n",
      "|              B03243|2019-10-03 09:30:51|2019-10-03 09:36:02|         264|          92|   null|                B03243|0.09|\n",
      "|              B02095|2019-10-02 06:54:00|2019-10-02 15:17:00|         264|         264|   null|                B02095|8.38|\n",
      "|              B02133|2019-10-01 15:02:14|2019-10-01 15:23:23|         264|         264|   null|                B02889|0.35|\n",
      "+--------------------+-------------------+-------------------+------------+------------+-------+----------------------+----+\n",
      "only showing top 20 rows\n",
      "\n"
     ]
    }
   ],
   "source": [
    "df.select('*').show()"
   ]
  },
  {
   "cell_type": "code",
   "execution_count": null,
   "metadata": {},
   "outputs": [],
   "source": [
    "df.withColumn('pickup_location')"
   ]
  },
  {
   "cell_type": "code",
   "execution_count": 74,
   "metadata": {},
   "outputs": [
    {
     "name": "stdout",
     "output_type": "stream",
     "text": [
      "+----------+-------------+--------------------+------------+\n",
      "|LocationID|      Borough|                Zone|service_zone|\n",
      "+----------+-------------+--------------------+------------+\n",
      "|         1|          EWR|      Newark Airport|         EWR|\n",
      "|         2|       Queens|         Jamaica Bay|   Boro Zone|\n",
      "|         3|        Bronx|Allerton/Pelham G...|   Boro Zone|\n",
      "|         4|    Manhattan|       Alphabet City| Yellow Zone|\n",
      "|         5|Staten Island|       Arden Heights|   Boro Zone|\n",
      "|         6|Staten Island|Arrochar/Fort Wad...|   Boro Zone|\n",
      "|         7|       Queens|             Astoria|   Boro Zone|\n",
      "|         8|       Queens|        Astoria Park|   Boro Zone|\n",
      "|         9|       Queens|          Auburndale|   Boro Zone|\n",
      "|        10|       Queens|        Baisley Park|   Boro Zone|\n",
      "|        11|     Brooklyn|          Bath Beach|   Boro Zone|\n",
      "|        12|    Manhattan|        Battery Park| Yellow Zone|\n",
      "|        13|    Manhattan|   Battery Park City| Yellow Zone|\n",
      "|        14|     Brooklyn|           Bay Ridge|   Boro Zone|\n",
      "|        15|       Queens|Bay Terrace/Fort ...|   Boro Zone|\n",
      "|        16|       Queens|             Bayside|   Boro Zone|\n",
      "|        17|     Brooklyn|             Bedford|   Boro Zone|\n",
      "|        18|        Bronx|        Bedford Park|   Boro Zone|\n",
      "|        19|       Queens|           Bellerose|   Boro Zone|\n",
      "|        20|        Bronx|             Belmont|   Boro Zone|\n",
      "+----------+-------------+--------------------+------------+\n",
      "only showing top 20 rows\n",
      "\n"
     ]
    }
   ],
   "source": [
    "zone_df.select('*').show()"
   ]
  },
  {
   "cell_type": "code",
   "execution_count": 78,
   "metadata": {},
   "outputs": [],
   "source": [
    "zone_df = zone_df.withColumnRenamed('LocationID','PULocationID')"
   ]
  },
  {
   "cell_type": "markdown",
   "metadata": {},
   "source": [
    "Join the fhv_tripdata_2019-10 with the taxi_zone_lookup"
   ]
  },
  {
   "cell_type": "code",
   "execution_count": 122,
   "metadata": {},
   "outputs": [],
   "source": [
    "df_with_zones = df.join(zone_df,df.PULocationID==zone_df.PULocationID)"
   ]
  },
  {
   "cell_type": "code",
   "execution_count": 123,
   "metadata": {},
   "outputs": [
    {
     "name": "stdout",
     "output_type": "stream",
     "text": [
      "+--------------------+-------------------+-------------------+------------+------------+-------+----------------------+----+------------+-------+------------------+------------+\n",
      "|dispatching_base_num|    pickup_datetime|   dropoff_datetime|PULocationID|DOLocationID|SR_Flag|Affiliated_base_number|time|PULocationID|Borough|              Zone|service_zone|\n",
      "+--------------------+-------------------+-------------------+------------+------------+-------+----------------------+----+------------+-------+------------------+------------+\n",
      "|              B02111|2019-10-01 10:18:42|2019-10-01 10:28:28|          92|          92|   null|                B02111|0.16|          92| Queens|          Flushing|   Boro Zone|\n",
      "|     B00021         |2019-10-01 23:08:47|2019-10-01 23:15:57|          56|          82|   null|       B00021         |0.12|          56| Queens|            Corona|   Boro Zone|\n",
      "|              B03160|2019-10-02 08:29:00|2019-10-02 08:50:00|          47|         254|   null|                B00111|0.35|          47|  Bronx|Claremont/Bathgate|   Boro Zone|\n",
      "|              B00692|2019-10-03 08:32:24|2019-10-03 09:01:26|         264|          22|   null|                B00692|0.48|         264|Unknown|                NV|         N/A|\n",
      "|              B01145|2019-10-01 01:07:53|2019-10-01 01:15:55|         264|         147|   null|                B01145|0.13|         264|Unknown|                NV|         N/A|\n",
      "|              B03016|2019-10-03 09:30:26|2019-10-03 10:13:38|         264|         132|   null|                B02875|0.72|         264|Unknown|                NV|         N/A|\n",
      "|              B01340|2019-10-03 10:29:06|2019-10-03 10:33:22|         264|         126|   null|                B01340|0.07|         264|Unknown|                NV|         N/A|\n",
      "|              B02975|2019-10-02 07:17:05|2019-10-02 08:18:33|         264|          67|   null|                B02875|1.02|         264|Unknown|                NV|         N/A|\n",
      "|              B01800|2019-10-02 07:01:00|2019-10-02 07:47:00|         264|         264|   null|                B01800|0.77|         264|Unknown|                NV|         N/A|\n",
      "|              B00272|2019-10-01 20:30:00|2019-10-01 20:51:00|         264|         264|   null|                B00272|0.35|         264|Unknown|                NV|         N/A|\n",
      "|              B02868|2019-10-02 10:00:00|2019-10-02 10:24:00|         264|         264|   null|                B02868| 0.4|         264|Unknown|                NV|         N/A|\n",
      "|              B02641|2019-10-01 20:39:54|2019-10-01 20:46:52|         264|         264|   null|                B02641|0.12|         264|Unknown|                NV|         N/A|\n",
      "|              B00256|2019-10-02 07:22:10|2019-10-02 07:43:05|         264|         264|   null|                B00256|0.35|         264|Unknown|                NV|         N/A|\n",
      "|              B01145|2019-10-02 16:11:25|2019-10-02 16:49:15|         264|         242|   null|                B02550|0.63|         264|Unknown|                NV|         N/A|\n",
      "|     B00625         |2019-10-01 15:33:01|2019-10-01 15:50:58|         129|         129|   null|       B02889         | 0.3|         129| Queens|   Jackson Heights|   Boro Zone|\n",
      "|              B01482|2019-10-01 18:07:00|2019-10-01 18:19:00|         264|         264|   null|                B01482| 0.2|         264|Unknown|                NV|         N/A|\n",
      "|              B03243|2019-10-03 09:30:51|2019-10-03 09:36:02|         264|          92|   null|                B03243|0.09|         264|Unknown|                NV|         N/A|\n",
      "|              B02095|2019-10-02 06:54:00|2019-10-02 15:17:00|         264|         264|   null|                B02095|8.38|         264|Unknown|                NV|         N/A|\n",
      "|              B02133|2019-10-01 15:02:14|2019-10-01 15:23:23|         264|         264|   null|                B02889|0.35|         264|Unknown|                NV|         N/A|\n",
      "|              B01197|2019-10-03 07:34:59|2019-10-03 08:25:18|         264|         264|   null|                B01197|0.84|         264|Unknown|                NV|         N/A|\n",
      "+--------------------+-------------------+-------------------+------------+------------+-------+----------------------+----+------------+-------+------------------+------------+\n",
      "only showing top 20 rows\n",
      "\n"
     ]
    }
   ],
   "source": [
    "df_with_zones.show()"
   ]
  },
  {
   "cell_type": "markdown",
   "metadata": {},
   "source": [
    "The least frequent pickup location Zone"
   ]
  },
  {
   "cell_type": "code",
   "execution_count": 130,
   "metadata": {},
   "outputs": [
    {
     "name": "stdout",
     "output_type": "stream",
     "text": [
      "+-----------+-----+\n",
      "|       Zone|count|\n",
      "+-----------+-----+\n",
      "|Jamaica Bay|    1|\n",
      "+-----------+-----+\n",
      "\n"
     ]
    }
   ],
   "source": [
    "grouped_df_by_zone = df_with_zones.groupBy('Zone').count().orderBy('count',ascending=True).limit(1).show()"
   ]
  }
 ],
 "metadata": {
  "kernelspec": {
   "display_name": "tf-gpu",
   "language": "python",
   "name": "python3"
  },
  "language_info": {
   "codemirror_mode": {
    "name": "ipython",
    "version": 3
   },
   "file_extension": ".py",
   "mimetype": "text/x-python",
   "name": "python",
   "nbconvert_exporter": "python",
   "pygments_lexer": "ipython3",
   "version": "3.9.16"
  }
 },
 "nbformat": 4,
 "nbformat_minor": 2
}
